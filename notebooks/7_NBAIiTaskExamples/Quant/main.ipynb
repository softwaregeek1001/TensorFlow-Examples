{
 "cells": [
  {
   "cell_type": "code",
   "execution_count": null,
   "metadata": {
    "pycharm": {
     "is_executing": true
    }
   },
   "outputs": [],
   "source": [
    "# from Quant import data_helper,knn_forecast,stack_ensemble\n",
    "import os\n",
    "\n",
    "import stack_ensemble\n",
    "import time\n",
    "from datetime import datetime\n",
    "import json\n",
    "\n",
    "\n",
    "def main():\n",
    "    current = time.time()\n",
    "    model = stack_ensemble.STACK_ENSEMBLE()\n",
    "\n",
    "    forecasts, pyplot = model.main_execute()\n",
    "    json_file = {\n",
    "        'currencypair': 'eth_usdt',\n",
    "        'forecasts': forecasts,\n",
    "        'time_escaped': time.time() - current,\n",
    "    }\n",
    "    print(json.dumps(json_file))\n",
    "\n",
    "    # write the prediction into json\n",
    "    timestr = datetime.utcnow().strftime('UTC%Y-%m-%d-%H-%M-%S')\n",
    "    result_dir = \"./results/\"\n",
    "    try:\n",
    "        os.makedirs(result_dir)\n",
    "    except FileExistsError:\n",
    "        pass\n",
    "    \n",
    "    filename = str(os.path.join(os.path.dirname(''), result_dir+\"result_\")) + timestr + \".json\"\n",
    "    print(filename)\n",
    "    with open(filename, 'a+') as outfile:\n",
    "        json.dump(json_file, outfile)\n",
    "\n",
    "    # plot and save the prediction into a png figure\n",
    "    figname = str(os.path.join(os.path.dirname(''), result_dir+\"result_\")) + timestr + \".png\"\n",
    "    pyplot.savefig(figname)\n",
    "\n",
    "\n",
    "if __name__ == \"__main__\":\n",
    "    main()\n"
   ]
  }
 ],
 "metadata": {
  "anaconda-cloud": {},
  "kernelspec": {
   "display_name": "Python 3",
   "language": "python",
   "name": "python3"
  },
  "language_info": {
   "codemirror_mode": {
    "name": "ipython",
    "version": 3
   },
   "file_extension": ".py",
   "mimetype": "text/x-python",
   "name": "python",
   "nbconvert_exporter": "python",
   "pygments_lexer": "ipython3",
   "version": "3.7.3"
  },
  "pycharm": {
   "stem_cell": {
    "cell_type": "raw",
    "metadata": {
     "collapsed": false
    },
    "source": []
   }
  }
 },
 "nbformat": 4,
 "nbformat_minor": 1
}
