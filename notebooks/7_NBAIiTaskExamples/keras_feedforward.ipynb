{
 "cells": [
  {
   "cell_type": "code",
   "execution_count": null,
   "metadata": {},
   "outputs": [],
   "source": [
    "!pip install keras --user\n",
    "!pip install tensorflow --user"
   ]
  },
  {
   "cell_type": "code",
   "execution_count": null,
   "metadata": {},
   "outputs": [],
   "source": [
    "from __future__ import print_function\n",
    "\n",
    "import keras\n",
    "from keras.datasets import mnist\n",
    "from keras.models import Sequential\n",
    "from keras.layers import Dense, Dropout\n",
    "from keras.optimizers import RMSprop\n",
    "import time\n",
    "import os\n",
    "from tensorflow.python.client import device_lib"
   ]
  },
  {
   "cell_type": "code",
   "execution_count": null,
   "metadata": {},
   "outputs": [],
   "source": [
    "\n",
    "\n",
    "start = time.time()\n",
    "result_dir = './result/keras_feedforward/'\n",
    "try:\n",
    "    os.mkdir(result_dir)\n",
    "except Exception:\n",
    "    pass\n",
    "logfile = open('result/keras_feedforward/result_log.txt', \"a+\")\n",
    "\n",
    "# configure the variables\n",
    "batch_size = 128\n",
    "num_classes = 10\n",
    "epochs = 5\n",
    "\n",
    "# double check the gpu device\n",
    "print(device_lib.list_local_devices(), file=logfile)\n",
    "\n",
    "# load the data from the build-in mnist data-set\n",
    "(x_train, y_train), (x_test, y_test) = mnist.load_data()\n",
    "\n",
    "x_train = x_train.reshape(60000, 784)\n",
    "x_test = x_test.reshape(10000, 784)\n",
    "x_train = x_train.astype('float32')\n",
    "x_test = x_test.astype('float32')\n",
    "x_train /= 255\n",
    "x_test /= 255\n",
    "print(x_train.shape[0], 'train samples', file=logfile)\n",
    "print(x_test.shape[0], 'test samples', file=logfile)\n",
    "\n",
    "# convert class vectors to binary class matrices\n",
    "y_train = keras.utils.to_categorical(y_train, num_classes)\n",
    "y_test = keras.utils.to_categorical(y_test, num_classes)\n",
    "\n",
    "# build the feed forward model by keras\n",
    "kerasmodel = Sequential()\n",
    "kerasmodel.add(Dense(512, activation='relu', input_shape=(784,)))\n",
    "kerasmodel.add(Dropout(0.2))\n",
    "kerasmodel.add(Dense(512, activation='relu'))\n",
    "kerasmodel.add(Dropout(0.2))\n",
    "kerasmodel.add(Dense(10, activation='softmax'))\n",
    "\n",
    "kerasmodel.summary()\n",
    "\n",
    "kerasmodel.compile(loss='categorical_crossentropy',\n",
    "                   optimizer=RMSprop(),\n",
    "                   metrics=['accuracy'])\n",
    "# train the model\n",
    "history = kerasmodel.fit(x_train, y_train,\n",
    "                         batch_size=batch_size,\n",
    "                         epochs=epochs,\n",
    "                         verbose=1,\n",
    "                         validation_data=(x_test, y_test))\n",
    "\n",
    "score = kerasmodel.evaluate(x_test, y_test, verbose=0)\n",
    "\n",
    "print('The test loss = ', score[0], file=logfile)\n",
    "print('The test accuracy = ', score[1], file=logfile)\n",
    "finish = time.time()\n",
    "print('The elapsed time =', finish - start, ' seconds', file=logfile)\n",
    "logfile.close()\n"
   ]
  }
 ],
 "metadata": {
  "anaconda-cloud": {},
  "kernelspec": {
   "display_name": "Python 3",
   "language": "python",
   "name": "python3"
  },
  "language_info": {
   "codemirror_mode": {
    "name": "ipython",
    "version": 3
   },
   "file_extension": ".py",
   "mimetype": "text/x-python",
   "name": "python",
   "nbconvert_exporter": "python",
   "pygments_lexer": "ipython3",
   "version": "3.7.3"
  }
 },
 "nbformat": 4,
 "nbformat_minor": 1
}
