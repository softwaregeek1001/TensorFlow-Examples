{
 "cells": [
  {
   "cell_type": "code",
   "execution_count": 1,
   "outputs": [],
   "source": [
    "!pip install numpy==1.16.1 --user\n",
    "!pip install pandas==0.23.4 --user\n",
    "!pip install scikit_learn==0.20.3 --user\n",
    "!pip install tensorflow --user"
   ],
   "metadata": {
    "collapsed": false,
    "pycharm": {
     "name": "#%%\n",
     "is_executing": false
    }
   }
  },
  {
   "cell_type": "code",
   "metadata": {
    "pycharm": {
     "is_executing": false
    }
   },
   "source": [
    "\"\"\"\n",
    "This code aims to find the 66 optimized fire stations based on the fire interventation data.\n",
    "\"\"\"\n",
    "\n",
    "import pandas as pd\n",
    "import time\n",
    "import numpy as np\n",
    "from sklearn.cluster import KMeans\n",
    "import gzip\n",
    "import os\n",
    "\n",
    "# from IPython.core.display import display, HTML\n",
    "# display(HTML(\"<style>.container { width:90% !important; }</style>\"))\n",
    "# pd.set_option('display.max_rows', 500)\n",
    "# pd.set_option('display.max_colwidth', 150)\n",
    "currenttime = time.time()\n",
    "\n",
    "# Read the Montreal Fire Interventation data downloaded from http://donnees.ville.montreal.qc.ca/\n",
    "with gzip.open('./FireInterventionData_All_20190312_Update.csv.gz') as f:\n",
    "    FireDataAll = pd.read_csv(f)\n",
    "# FireDataAll = pd.read_csv('FireInterventionData_All_20190312_Update.csv')\n",
    "FireDataAll = FireDataAll.loc[FireDataAll.latitude != 0]\n",
    "FireDataAll = FireDataAll.loc[FireDataAll.year >= 2018]\n",
    "FireDataAll = FireDataAll[[\"longitude\", \"latitude\"]]\n",
    "\n",
    "# Since the longitude and latitude per degree are not the same length of arc, here we\n",
    "# need to correct the length difference.\n",
    "lonmin = FireDataAll.longitude.min()\n",
    "latmin = FireDataAll.latitude.min()\n",
    "FireDataAll.longitude = (FireDataAll.longitude - lonmin) * 79 / 111\n",
    "FireDataAll.latitude = (FireDataAll.latitude - latmin)\n",
    "\n",
    "# Extrace the corrected longitude and the latitude value from the original data.\n",
    "X = FireDataAll[[\"longitude\", \"latitude\"]].values\n",
    "# np.where(np.isnan(X))\n",
    "\n",
    "# Fit the model based on the X\n",
    "kmeans = KMeans(n_clusters=66)\n",
    "kmeans.fit(X)\n",
    "\n",
    "result2009 = pd.DataFrame(kmeans.cluster_centers_)\n",
    "result2009.columns = [\"longitude\", \"latitude\"]\n",
    "# Transform the longitude and latitude back to the original arc distance.\n",
    "result2009.longitude = 111 / 79 * result2009.longitude + lonmin\n",
    "result2009.latitude = result2009.latitude + latmin\n",
    "\n",
    "# Write the result into the csv file. Which are the oprimized location.\n",
    "print(result2009)\n",
    "result_path = \"./results/KmeansResult2009_WithDeformCorrection_result.csv\"\n",
    "try:\n",
    "    os.makedirs(os.path.dirname(result_path))\n",
    "except FileExistsError:\n",
    "    pass\n",
    "    \n",
    "result2009.to_csv(result_path)\n",
    "print(\"Total time elapsed =\", time.time() - currenttime)"
   ],
   "outputs": [],
   "execution_count": 2
  }
 ],
 "metadata": {
  "anaconda-cloud": {},
  "kernelspec": {
   "name": "pycharm-3058efaf",
   "language": "python",
   "display_name": "PyCharm (jupyterconverter)"
  },
  "language_info": {
   "codemirror_mode": {
    "name": "ipython",
    "version": 3
   },
   "file_extension": ".py",
   "mimetype": "text/x-python",
   "name": "python",
   "nbconvert_exporter": "python",
   "pygments_lexer": "ipython3",
   "version": "3.6.1"
  },
  "pycharm": {
   "stem_cell": {
    "cell_type": "raw",
    "source": [],
    "metadata": {
     "collapsed": false
    }
   }
  }
 },
 "nbformat": 4,
 "nbformat_minor": 1
}
